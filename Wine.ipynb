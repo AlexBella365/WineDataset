{
 "cells": [
  {
   "cell_type": "code",
   "execution_count": 1,
   "metadata": {
    "collapsed": true
   },
   "outputs": [],
   "source": [
    "#import pixiedust"
   ]
  },
  {
   "cell_type": "code",
   "execution_count": 43,
   "metadata": {
    "collapsed": true
   },
   "outputs": [],
   "source": [
    "import pandas as pd\n",
    "import numpy as np\n",
    "import matplotlib.pyplot as plt\n",
    "import seaborn as sns\n",
    "\n",
    "%matplotlib inline\n",
    "plt.rcParams[\"figure.figsize\"] = (12,8)\n",
    "#sns.set(rc={'figure.figsize':(12,8)})"
   ]
  },
  {
   "cell_type": "markdown",
   "metadata": {},
   "source": [
    "# Reading data"
   ]
  },
  {
   "cell_type": "code",
   "execution_count": 3,
   "metadata": {},
   "outputs": [
    {
     "data": {
      "text/html": [
       "<div>\n",
       "<style scoped>\n",
       "    .dataframe tbody tr th:only-of-type {\n",
       "        vertical-align: middle;\n",
       "    }\n",
       "\n",
       "    .dataframe tbody tr th {\n",
       "        vertical-align: top;\n",
       "    }\n",
       "\n",
       "    .dataframe thead th {\n",
       "        text-align: right;\n",
       "    }\n",
       "</style>\n",
       "<table border=\"1\" class=\"dataframe\">\n",
       "  <thead>\n",
       "    <tr style=\"text-align: right;\">\n",
       "      <th></th>\n",
       "      <th>country</th>\n",
       "      <th>description</th>\n",
       "      <th>designation</th>\n",
       "      <th>points</th>\n",
       "      <th>price</th>\n",
       "      <th>province</th>\n",
       "      <th>region_1</th>\n",
       "      <th>region_2</th>\n",
       "      <th>variety</th>\n",
       "      <th>winery</th>\n",
       "    </tr>\n",
       "  </thead>\n",
       "  <tbody>\n",
       "    <tr>\n",
       "      <th>62355</th>\n",
       "      <td>US</td>\n",
       "      <td>Begins with pretty but light aromas of peaches...</td>\n",
       "      <td>NaN</td>\n",
       "      <td>83</td>\n",
       "      <td>14.0</td>\n",
       "      <td>California</td>\n",
       "      <td>Mendocino</td>\n",
       "      <td>Mendocino/Lake Counties</td>\n",
       "      <td>Pinot Blanc</td>\n",
       "      <td>Saint Gregory</td>\n",
       "    </tr>\n",
       "    <tr>\n",
       "      <th>53300</th>\n",
       "      <td>France</td>\n",
       "      <td>This wine has distinct acidity, probably too m...</td>\n",
       "      <td>Les Champs Pimont Premier Cru</td>\n",
       "      <td>84</td>\n",
       "      <td>NaN</td>\n",
       "      <td>Burgundy</td>\n",
       "      <td>Beaune</td>\n",
       "      <td>NaN</td>\n",
       "      <td>Pinot Noir</td>\n",
       "      <td>Maison Champy</td>\n",
       "    </tr>\n",
       "    <tr>\n",
       "      <th>136507</th>\n",
       "      <td>Moldova</td>\n",
       "      <td>This wine starts off with robust aromas of pur...</td>\n",
       "      <td>Dionis</td>\n",
       "      <td>81</td>\n",
       "      <td>10.0</td>\n",
       "      <td>Moldova</td>\n",
       "      <td>NaN</td>\n",
       "      <td>NaN</td>\n",
       "      <td>Red Blend</td>\n",
       "      <td>Cricova</td>\n",
       "    </tr>\n",
       "    <tr>\n",
       "      <th>110497</th>\n",
       "      <td>US</td>\n",
       "      <td>A bit heavy now, with lots of unintegrated par...</td>\n",
       "      <td>NaN</td>\n",
       "      <td>87</td>\n",
       "      <td>36.0</td>\n",
       "      <td>California</td>\n",
       "      <td>Napa Valley</td>\n",
       "      <td>Napa</td>\n",
       "      <td>Cabernet Sauvignon</td>\n",
       "      <td>M by Martellotto</td>\n",
       "    </tr>\n",
       "    <tr>\n",
       "      <th>10026</th>\n",
       "      <td>Italy</td>\n",
       "      <td>Blue flower, underbrush, tobacco leaf, leather...</td>\n",
       "      <td>NaN</td>\n",
       "      <td>92</td>\n",
       "      <td>35.0</td>\n",
       "      <td>Southern Italy</td>\n",
       "      <td>Taurasi</td>\n",
       "      <td>NaN</td>\n",
       "      <td>Aglianico</td>\n",
       "      <td>Monte Faliesi</td>\n",
       "    </tr>\n",
       "  </tbody>\n",
       "</table>\n",
       "</div>"
      ],
      "text/plain": [
       "        country                                        description  \\\n",
       "62355        US  Begins with pretty but light aromas of peaches...   \n",
       "53300    France  This wine has distinct acidity, probably too m...   \n",
       "136507  Moldova  This wine starts off with robust aromas of pur...   \n",
       "110497       US  A bit heavy now, with lots of unintegrated par...   \n",
       "10026     Italy  Blue flower, underbrush, tobacco leaf, leather...   \n",
       "\n",
       "                          designation  points  price        province  \\\n",
       "62355                             NaN      83   14.0      California   \n",
       "53300   Les Champs Pimont Premier Cru      84    NaN        Burgundy   \n",
       "136507                         Dionis      81   10.0         Moldova   \n",
       "110497                            NaN      87   36.0      California   \n",
       "10026                             NaN      92   35.0  Southern Italy   \n",
       "\n",
       "           region_1                 region_2             variety  \\\n",
       "62355     Mendocino  Mendocino/Lake Counties         Pinot Blanc   \n",
       "53300        Beaune                      NaN          Pinot Noir   \n",
       "136507          NaN                      NaN           Red Blend   \n",
       "110497  Napa Valley                     Napa  Cabernet Sauvignon   \n",
       "10026       Taurasi                      NaN           Aglianico   \n",
       "\n",
       "                  winery  \n",
       "62355      Saint Gregory  \n",
       "53300      Maison Champy  \n",
       "136507           Cricova  \n",
       "110497  M by Martellotto  \n",
       "10026      Monte Faliesi  "
      ]
     },
     "execution_count": 3,
     "metadata": {},
     "output_type": "execute_result"
    }
   ],
   "source": [
    "data = pd.read_csv('winemag-data_first150k.csv',index_col=0)\n",
    "data.sample(5)"
   ]
  },
  {
   "cell_type": "code",
   "execution_count": 4,
   "metadata": {},
   "outputs": [
    {
     "name": "stdout",
     "output_type": "stream",
     "text": [
      "country ============= 49\n",
      "description ========= 97821\n",
      "designation ========= 30622\n",
      "points ============== 21\n",
      "price =============== 358\n",
      "province ============ 456\n",
      "region_1 ============ 1237\n",
      "region_2 ============ 19\n",
      "variety ============= 632\n",
      "winery ============== 14810\n"
     ]
    }
   ],
   "source": [
    "for c in data.columns:\n",
    "    print(c,'='*(20-len(c)),data[c].unique().size)"
   ]
  },
  {
   "cell_type": "markdown",
   "metadata": {},
   "source": [
    "## Cleanup"
   ]
  },
  {
   "cell_type": "code",
   "execution_count": 5,
   "metadata": {
    "collapsed": true
   },
   "outputs": [],
   "source": [
    "# Drop columns that won't be used now\n",
    "df = data.drop(columns=['description','designation','region_1','region_2','winery'])"
   ]
  },
  {
   "cell_type": "code",
   "execution_count": 6,
   "metadata": {},
   "outputs": [],
   "source": [
    "# Keep only countries with more than 200 different wines\n",
    "s = (df.country.value_counts()>200)\n",
    "idx = s[s].index.tolist()\n",
    "df = df[df.country.isin(idx)]"
   ]
  },
  {
   "cell_type": "code",
   "execution_count": 7,
   "metadata": {
    "collapsed": true
   },
   "outputs": [],
   "source": [
    "# Remove very expensive bottles\n",
    "df = df[df.price<100]"
   ]
  },
  {
   "cell_type": "code",
   "execution_count": 8,
   "metadata": {},
   "outputs": [
    {
     "name": "stdout",
     "output_type": "stream",
     "text": [
      "country ============= 15\n",
      "points ============== 21\n",
      "price =============== 96\n",
      "province ============ 331\n",
      "variety ============= 574\n"
     ]
    }
   ],
   "source": [
    "for c in df.columns:\n",
    "    print(c,'='*(20-len(c)),df[c].unique().size)"
   ]
  },
  {
   "cell_type": "code",
   "execution_count": null,
   "metadata": {
    "collapsed": true
   },
   "outputs": [],
   "source": []
  },
  {
   "cell_type": "markdown",
   "metadata": {},
   "source": [
    "# Visualization"
   ]
  },
  {
   "cell_type": "markdown",
   "metadata": {},
   "source": [
    "## Directly with pandas"
   ]
  },
  {
   "cell_type": "code",
   "execution_count": 45,
   "metadata": {},
   "outputs": [
    {
     "data": {
      "image/png": "[encoded data removed]",
      "text/plain": [
       "<matplotlib.figure.Figure at 0x1a26ac5908>"
      ]
     },
     "metadata": {},
     "output_type": "display_data"
    }
   ],
   "source": [
    "df.sample(200).plot.scatter(x='points',y='price');"
   ]
  },
  {
   "cell_type": "code",
   "execution_count": 46,
   "metadata": {},
   "outputs": [
    {
     "data": {
      "image/png": "[encoded data removed]",
      "text/plain": [
       "<matplotlib.figure.Figure at 0x1a26d20b70>"
      ]
     },
     "metadata": {},
     "output_type": "display_data"
    }
   ],
   "source": [
    "df.plot.hexbin(x='points',y='price',gridsize=10);"
   ]
  },
  {
   "cell_type": "markdown",
   "metadata": {},
   "source": [
    "## Using Seaborn"
   ]
  },
  {
   "cell_type": "code",
   "execution_count": 48,
   "metadata": {},
   "outputs": [
    {
     "data": {
      "image/png": "[encoded data removed]",
      "text/plain": [
       "<matplotlib.figure.Figure at 0x1a14423e48>"
      ]
     },
     "metadata": {},
     "output_type": "display_data"
    }
   ],
   "source": [
    "idx = df.country.isin(['US','France','Spain','Italy','Chile','Israel','Greece'])\n",
    "sns.lmplot(x='points',y='price',data=df[idx].sample(200),\n",
    "           fit_reg=False,\n",
    "           hue='country',\n",
    "           #hue_order=['France','US','Spain','Italy','Chile','Israel'],\n",
    "           #palette='deep',\n",
    "          );"
   ]
  },
  {
   "cell_type": "markdown",
   "metadata": {},
   "source": [
    "# Machine Learning"
   ]
  },
  {
   "cell_type": "code",
   "execution_count": 49,
   "metadata": {
    "collapsed": true
   },
   "outputs": [],
   "source": [
    "from sklearn import tree, model_selection#, preprocessing"
   ]
  },
  {
   "cell_type": "code",
   "execution_count": 50,
   "metadata": {
    "collapsed": true
   },
   "outputs": [],
   "source": [
    "#le = preprocessing.LabelEncoder()\n",
    "#le.fit_transform(y)"
   ]
  },
  {
   "cell_type": "code",
   "execution_count": 51,
   "metadata": {},
   "outputs": [],
   "source": [
    "X = df[['country', 'price', 'province', 'variety']]\n",
    "y = df['points']"
   ]
  },
  {
   "cell_type": "markdown",
   "metadata": {},
   "source": [
    "## Splitting"
   ]
  },
  {
   "cell_type": "code",
   "execution_count": 124,
   "metadata": {},
   "outputs": [
    {
     "name": "stderr",
     "output_type": "stream",
     "text": [
      "/anaconda/lib/python3.6/site-packages/sklearn/model_selection/_split.py:2010: FutureWarning: From version 0.21, test_size will always complement train_size unless both are specified.\n",
      "  FutureWarning)\n"
     ]
    }
   ],
   "source": [
    "X_train, X_test, y_train, y_test = model_selection.train_test_split(X,y,train_size=0.8,random_state=123)\n",
    "X_cv, X_test, y_cv, y_test = model_selection.train_test_split(X_test,y_test,train_size=0.5)"
   ]
  },
  {
   "cell_type": "code",
   "execution_count": 125,
   "metadata": {},
   "outputs": [
    {
     "name": "stdout",
     "output_type": "stream",
     "text": [
      "(105613, 4) (13202, 4) (13202, 4) (105613,) (13202,) (13202,)\n"
     ]
    }
   ],
   "source": [
    "print(X_train.shape,X_cv.shape,X_test.shape,y_train.shape,y_cv.shape,y_test.shape)"
   ]
  },
  {
   "cell_type": "markdown",
   "metadata": {},
   "source": [
    "## Encoding"
   ]
  },
  {
   "cell_type": "code",
   "execution_count": 74,
   "metadata": {},
   "outputs": [],
   "source": [
    "#### Encoder from Alex Gbx\n",
    "\n",
    "import pandas as pd\n",
    "import numpy as np\n",
    "from sklearn.base import BaseEstimator, TransformerMixin\n",
    "from sklearn.model_selection import KFold\n",
    "from sklearn.ensemble.partial_dependence import partial_dependence\n",
    "\n",
    "class ImpactEncoder(BaseEstimator, TransformerMixin):\n",
    "\n",
    "    def __init__(self, col=None, m = 100,  new_col=None, k_fold = 4):\n",
    "        self.col = col\n",
    "        self.m = m\n",
    "        self.new_col = new_col\n",
    "\n",
    "    def fit(self, X, y=None):\n",
    "            counts = X[self.col].value_counts()\n",
    "            frequency = counts.apply(lambda x: float(x)/(float(x) + self.m))\n",
    "            encoded_mean = pd.concat([X , y] ,axis =1).groupby(self.col)[y.name].agg(np.mean)\n",
    "            mean = y.mean()\n",
    "            def project(x):\n",
    "                try:\n",
    "                    return encoded_mean.loc[x]*frequency.loc[x] + (1-frequency.loc[x])*mean\n",
    "                except:\n",
    "                    return mean\n",
    "            self.__transform = lambda data: data[self.col].apply(project).to_frame(name = self.new_col)\n",
    "            return self\n",
    "\n",
    "    def transform(self, X):\n",
    "        try:\n",
    "            return self.__transform(X)\n",
    "        except AttributeError:\n",
    "            print(\" not fitted\")\n",
    "\n",
    "\n",
    "    def stacked_transform(self, X, y, seed = 2018):\n",
    "        k_fold = 4\n",
    "        kf = KFold(n_splits=k_fold, shuffle=True, random_state=seed)\n",
    "        df_output = pd.DataFrame(columns = [self.col])\n",
    "        for dev_index, val_index in kf.split(range(X.shape[0])):\n",
    "                dev_X, val_X = X.iloc[dev_index,:], X.iloc[val_index,:]\n",
    "                dev_y, val_y = y.iloc[dev_index], y.iloc[val_index]\n",
    "                df_output = df_output.append(self.fit(dev_X, dev_y).transform(val_X))\n",
    "        X = X.drop(self.col, axis = 1).join(df_output)\n",
    "        return X"
   ]
  },
  {
   "cell_type": "code",
   "execution_count": 142,
   "metadata": {},
   "outputs": [
    {
     "data": {
      "text/plain": [
       "{'country': ImpactEncoder(col='country', k_fold=None, m=100, new_col=None),\n",
       " 'price': ImpactEncoder(col='price', k_fold=None, m=100, new_col=None),\n",
       " 'province': ImpactEncoder(col='province', k_fold=None, m=100, new_col=None),\n",
       " 'variety': ImpactEncoder(col='variety', k_fold=None, m=100, new_col=None)}"
      ]
     },
     "execution_count": 142,
     "metadata": {},
     "output_type": "execute_result"
    }
   ],
   "source": [
    "IEs = {}\n",
    "for col in ['country', 'price', 'province', 'variety']:\n",
    "    ie = ImpactEncoder(col=col).fit(X_train,y_train)\n",
    "    IEs[col] = ie\n",
    "    \n",
    "IEs"
   ]
  },
  {
   "cell_type": "code",
   "execution_count": null,
   "metadata": {
    "collapsed": true
   },
   "outputs": [],
   "source": [
    "def apply_impact(IE_dict,X,y):\n",
    "    Xtemp = X\n",
    "    for ie in IE_dict.values():\n",
    "        Xtemp = ie.stacked_transform(Xtemp,y)\n",
    "    return Xtemp"
   ]
  },
  {
   "cell_type": "code",
   "execution_count": 145,
   "metadata": {},
   "outputs": [],
   "source": [
    "X_train_impact = apply_impact(IEs,X_train,y_train)\n",
    "X_test_impact = apply_impact(IEs,X_test,y_test)"
   ]
  },
  {
   "cell_type": "code",
   "execution_count": 146,
   "metadata": {},
   "outputs": [
    {
     "data": {
      "text/html": [
       "<div>\n",
       "<style scoped>\n",
       "    .dataframe tbody tr th:only-of-type {\n",
       "        vertical-align: middle;\n",
       "    }\n",
       "\n",
       "    .dataframe tbody tr th {\n",
       "        vertical-align: top;\n",
       "    }\n",
       "\n",
       "    .dataframe thead th {\n",
       "        text-align: right;\n",
       "    }\n",
       "</style>\n",
       "<table border=\"1\" class=\"dataframe\">\n",
       "  <thead>\n",
       "    <tr style=\"text-align: right;\">\n",
       "      <th></th>\n",
       "      <th>country</th>\n",
       "      <th>price</th>\n",
       "      <th>province</th>\n",
       "      <th>variety</th>\n",
       "    </tr>\n",
       "  </thead>\n",
       "  <tbody>\n",
       "    <tr>\n",
       "      <th>96097</th>\n",
       "      <td>87.714243</td>\n",
       "      <td>89.057106</td>\n",
       "      <td>88.426491</td>\n",
       "      <td>88.568994</td>\n",
       "    </tr>\n",
       "    <tr>\n",
       "      <th>139066</th>\n",
       "      <td>85.979911</td>\n",
       "      <td>85.553460</td>\n",
       "      <td>86.119312</td>\n",
       "      <td>87.250153</td>\n",
       "    </tr>\n",
       "    <tr>\n",
       "      <th>30321</th>\n",
       "      <td>88.172411</td>\n",
       "      <td>86.242648</td>\n",
       "      <td>88.231202</td>\n",
       "      <td>87.958205</td>\n",
       "    </tr>\n",
       "    <tr>\n",
       "      <th>11489</th>\n",
       "      <td>87.702412</td>\n",
       "      <td>86.550670</td>\n",
       "      <td>86.210729</td>\n",
       "      <td>86.641986</td>\n",
       "    </tr>\n",
       "    <tr>\n",
       "      <th>62996</th>\n",
       "      <td>87.714243</td>\n",
       "      <td>88.133061</td>\n",
       "      <td>87.562006</td>\n",
       "      <td>87.554071</td>\n",
       "    </tr>\n",
       "  </tbody>\n",
       "</table>\n",
       "</div>"
      ],
      "text/plain": [
       "          country      price   province    variety\n",
       "96097   87.714243  89.057106  88.426491  88.568994\n",
       "139066  85.979911  85.553460  86.119312  87.250153\n",
       "30321   88.172411  86.242648  88.231202  87.958205\n",
       "11489   87.702412  86.550670  86.210729  86.641986\n",
       "62996   87.714243  88.133061  87.562006  87.554071"
      ]
     },
     "execution_count": 146,
     "metadata": {},
     "output_type": "execute_result"
    }
   ],
   "source": [
    "X_train_impact.head()"
   ]
  },
  {
   "cell_type": "code",
   "execution_count": 147,
   "metadata": {},
   "outputs": [
    {
     "data": {
      "text/html": [
       "<div>\n",
       "<style scoped>\n",
       "    .dataframe tbody tr th:only-of-type {\n",
       "        vertical-align: middle;\n",
       "    }\n",
       "\n",
       "    .dataframe tbody tr th {\n",
       "        vertical-align: top;\n",
       "    }\n",
       "\n",
       "    .dataframe thead th {\n",
       "        text-align: right;\n",
       "    }\n",
       "</style>\n",
       "<table border=\"1\" class=\"dataframe\">\n",
       "  <thead>\n",
       "    <tr style=\"text-align: right;\">\n",
       "      <th></th>\n",
       "      <th>country</th>\n",
       "      <th>price</th>\n",
       "      <th>province</th>\n",
       "      <th>variety</th>\n",
       "    </tr>\n",
       "  </thead>\n",
       "  <tbody>\n",
       "    <tr>\n",
       "      <th>113413</th>\n",
       "      <td>86.667278</td>\n",
       "      <td>85.554722</td>\n",
       "      <td>86.734118</td>\n",
       "      <td>87.515410</td>\n",
       "    </tr>\n",
       "    <tr>\n",
       "      <th>89841</th>\n",
       "      <td>87.690275</td>\n",
       "      <td>88.125467</td>\n",
       "      <td>87.643571</td>\n",
       "      <td>88.521988</td>\n",
       "    </tr>\n",
       "    <tr>\n",
       "      <th>28134</th>\n",
       "      <td>87.690275</td>\n",
       "      <td>89.258071</td>\n",
       "      <td>88.554911</td>\n",
       "      <td>87.267067</td>\n",
       "    </tr>\n",
       "    <tr>\n",
       "      <th>60514</th>\n",
       "      <td>87.701020</td>\n",
       "      <td>87.719651</td>\n",
       "      <td>87.490277</td>\n",
       "      <td>87.683284</td>\n",
       "    </tr>\n",
       "    <tr>\n",
       "      <th>129771</th>\n",
       "      <td>88.227988</td>\n",
       "      <td>85.920280</td>\n",
       "      <td>88.073672</td>\n",
       "      <td>88.198244</td>\n",
       "    </tr>\n",
       "  </tbody>\n",
       "</table>\n",
       "</div>"
      ],
      "text/plain": [
       "          country      price   province    variety\n",
       "113413  86.667278  85.554722  86.734118  87.515410\n",
       "89841   87.690275  88.125467  87.643571  88.521988\n",
       "28134   87.690275  89.258071  88.554911  87.267067\n",
       "60514   87.701020  87.719651  87.490277  87.683284\n",
       "129771  88.227988  85.920280  88.073672  88.198244"
      ]
     },
     "execution_count": 147,
     "metadata": {},
     "output_type": "execute_result"
    }
   ],
   "source": [
    "X_test_impact.head()"
   ]
  },
  {
   "cell_type": "code",
   "execution_count": null,
   "metadata": {
    "collapsed": true
   },
   "outputs": [],
   "source": []
  },
  {
   "cell_type": "markdown",
   "metadata": {},
   "source": [
    "## Modelling"
   ]
  },
  {
   "cell_type": "code",
   "execution_count": 153,
   "metadata": {},
   "outputs": [
    {
     "data": {
      "text/plain": [
       "DecisionTreeRegressor(criterion='mse', max_depth=None, max_features=None,\n",
       "           max_leaf_nodes=None, min_impurity_decrease=0.0,\n",
       "           min_impurity_split=None, min_samples_leaf=1,\n",
       "           min_samples_split=2, min_weight_fraction_leaf=0.0,\n",
       "           presort=False, random_state=None, splitter='best')"
      ]
     },
     "execution_count": 153,
     "metadata": {},
     "output_type": "execute_result"
    }
   ],
   "source": [
    "model1 = tree.tree.DecisionTreeRegressor()\n",
    "model1.fit(X_train_impact,y_train)"
   ]
  },
  {
   "cell_type": "code",
   "execution_count": 154,
   "metadata": {},
   "outputs": [
    {
     "data": {
      "text/plain": [
       "array([ 86.        ,  83.33333333,  93.        , ...,  89.        ,\n",
       "        89.        ,  86.        ])"
      ]
     },
     "execution_count": 154,
     "metadata": {},
     "output_type": "execute_result"
    }
   ],
   "source": [
    "X_hat1 = model1.predict(X_test_impact)\n",
    "X_hat1"
   ]
  },
  {
   "cell_type": "code",
   "execution_count": 155,
   "metadata": {},
   "outputs": [
    {
     "data": {
      "text/plain": [
       "2.7714740190880169"
      ]
     },
     "execution_count": 155,
     "metadata": {},
     "output_type": "execute_result"
    }
   ],
   "source": [
    "(y_test-X_hat1).round().abs().sum()/y_test.size"
   ]
  },
  {
   "cell_type": "markdown",
   "metadata": {},
   "source": [
    "## XGBoost"
   ]
  },
  {
   "cell_type": "code",
   "execution_count": 106,
   "metadata": {
    "collapsed": true
   },
   "outputs": [],
   "source": [
    "import xgboost"
   ]
  },
  {
   "cell_type": "code",
   "execution_count": 156,
   "metadata": {},
   "outputs": [
    {
     "data": {
      "text/plain": [
       "XGBRegressor(base_score=0.5, booster='gbtree', colsample_bylevel=1,\n",
       "       colsample_bytree=1, gamma=0, learning_rate=0.1, max_delta_step=0,\n",
       "       max_depth=3, min_child_weight=1, missing=None, n_estimators=100,\n",
       "       n_jobs=1, nthread=None, objective='reg:linear', random_state=0,\n",
       "       reg_alpha=0, reg_lambda=1, scale_pos_weight=1, seed=None,\n",
       "       silent=True, subsample=1)"
      ]
     },
     "execution_count": 156,
     "metadata": {},
     "output_type": "execute_result"
    }
   ],
   "source": [
    "model2 = xgboost.XGBRegressor()\n",
    "model2.fit(X_train_impact,y_train)"
   ]
  },
  {
   "cell_type": "code",
   "execution_count": 157,
   "metadata": {},
   "outputs": [
    {
     "data": {
      "text/plain": [
       "array([ 85.4382782 ,  88.13455963,  89.7181778 , ...,  86.81293488,\n",
       "        86.76133728,  86.92688751], dtype=float32)"
      ]
     },
     "execution_count": 157,
     "metadata": {},
     "output_type": "execute_result"
    }
   ],
   "source": [
    "X_hat2 = model2.predict(X_test_impact)\n",
    "X_hat2"
   ]
  },
  {
   "cell_type": "code",
   "execution_count": 158,
   "metadata": {},
   "outputs": [
    {
     "data": {
      "text/plain": [
       "2.0582487501893652"
      ]
     },
     "execution_count": 158,
     "metadata": {},
     "output_type": "execute_result"
    }
   ],
   "source": [
    "(y_test-X_hat2).round().abs().sum()/y_test.size"
   ]
  },
  {
   "cell_type": "markdown",
   "metadata": {},
   "source": [
    "## CatBoost"
   ]
  },
  {
   "cell_type": "code",
   "execution_count": 188,
   "metadata": {},
   "outputs": [],
   "source": [
    "from catboost import CatBoostRegressor"
   ]
  },
  {
   "cell_type": "code",
   "execution_count": 190,
   "metadata": {},
   "outputs": [
    {
     "data": {
      "text/plain": [
       "<catboost.core.CatBoostRegressor at 0x1a2706f8d0>"
      ]
     },
     "execution_count": 190,
     "metadata": {},
     "output_type": "execute_result"
    }
   ],
   "source": [
    "model3 = CatBoostRegressor()\n",
    "model3.fit(X_train,y_train,cat_features=[0,1,2,3])"
   ]
  },
  {
   "cell_type": "code",
   "execution_count": 186,
   "metadata": {},
   "outputs": [
    {
     "data": {
      "text/plain": [
       "array([ 84.28500991,  85.60393252,  90.63289431, ...,  86.55303057,\n",
       "        85.87669884,  86.48944603])"
      ]
     },
     "execution_count": 186,
     "metadata": {},
     "output_type": "execute_result"
    }
   ],
   "source": [
    "X_hat3 = model3.predict(X_test)\n",
    "X_hat3"
   ]
  },
  {
   "cell_type": "code",
   "execution_count": 187,
   "metadata": {},
   "outputs": [
    {
     "data": {
      "text/plain": [
       "1.8435085593091955"
      ]
     },
     "execution_count": 187,
     "metadata": {},
     "output_type": "execute_result"
    }
   ],
   "source": [
    "(y_test-X_hat3).round().abs().sum()/y_test.size"
   ]
  },
  {
   "cell_type": "code",
   "execution_count": null,
   "metadata": {
    "collapsed": true
   },
   "outputs": [],
   "source": []
  }
 ],
 "metadata": {
  "kernelspec": {
   "display_name": "Python 3",
   "language": "python",
   "name": "python3"
  },
  "language_info": {
   "codemirror_mode": {
    "name": "ipython",
    "version": 3
   },
   "file_extension": ".py",
   "mimetype": "text/x-python",
   "name": "python",
   "nbconvert_exporter": "python",
   "pygments_lexer": "ipython3",
   "version": "3.6.6"
  }
 },
 "nbformat": 4,
 "nbformat_minor": 2
}
